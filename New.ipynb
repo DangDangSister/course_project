{
 "cells": [
  {
   "cell_type": "code",
   "execution_count": 1,
   "metadata": {},
   "outputs": [
    {
     "name": "stderr",
     "output_type": "stream",
     "text": [
      "Using TensorFlow backend.\n"
     ]
    }
   ],
   "source": [
    "# import libraries\n",
    "import numpy as np\n",
    "import matplotlib.pyplot as plt\n",
    "import time\n",
    "import pickle\n",
    "from sklearn.preprocessing import scale\n",
    "from keras.callbacks import ModelCheckpoint, EarlyStopping, TensorBoard\n",
    "from keras.models import load_model\n",
    "from keras import metrics\n",
    "from keras.regularizers import l2\n",
    "import models.nnmodels as nn\n",
    "import utils.data as data\n",
    "\n",
    "import gc\n",
    "gc.enable()\n",
    "seed = 0\n",
    "np.random.seed(seed)\n",
    "%matplotlib inline"
   ]
  },
  {
   "cell_type": "code",
   "execution_count": 2,
   "metadata": {},
   "outputs": [
    {
     "name": "stdout",
     "output_type": "stream",
     "text": [
      "Loading DEAP dataset...\n",
      "DEAP dataset is loaded.\n",
      "\n",
      "##### Dataset representation for each subject #####\n",
      "\n",
      "There are 32 subjects in the dataset.\n",
      "\n",
      "(Trail/Video, Channel, Readings) :  (40, 40, 8064)\n",
      "(Trail/Video, label (valence or arousal)) :  (40, 2)\n"
     ]
    }
   ],
   "source": [
    "print 'Loading DEAP dataset...'\n",
    "subject_data_folds, valence_folds, arousal_folds = data.load_deap(32, 2)\n",
    "print 'DEAP dataset is loaded.\\n'\n",
    "\n",
    "print 5*'#' + ' Dataset representation for each subject ' + 5*'#'\n",
    "print '\\nThere are {} subjects in the dataset.\\n'.format(len(subject_data_folds))\n",
    "print '(Trail/Video, Channel, Readings) : ', subject_data_folds[0].shape\n",
    "print '(Trail/Video, label (valence or arousal)) : ', arousal_folds[0].shape"
   ]
  },
  {
   "cell_type": "code",
   "execution_count": 3,
   "metadata": {},
   "outputs": [
    {
     "data": {
      "text/plain": [
       "(40, 40, 4030)"
      ]
     },
     "execution_count": 3,
     "metadata": {},
     "output_type": "execute_result"
    }
   ],
   "source": [
    "# Select last 30 seconds of only EGG channels\n",
    "subject_egg_data_folds = []\n",
    "for s in subject_data_folds:\n",
    "    subject_egg_data_folds.append(s[:,:,4032:-2])\n",
    "    \n",
    "# Check the shape\n",
    "subject_egg_data_folds[0].shape"
   ]
  },
  {
   "cell_type": "code",
   "execution_count": 4,
   "metadata": {},
   "outputs": [
    {
     "data": {
      "text/plain": [
       "(40, 15, 4030)"
      ]
     },
     "execution_count": 4,
     "metadata": {},
     "output_type": "execute_result"
    }
   ],
   "source": [
    "# Create a boolean mask to select specific channels\n",
    "# mask to select channels 1, 2, 4, 5, 8, 10, 15, 21, 22, 25, 26, 27, 28, 31, 32\n",
    "mask = [True, True, False, True, True, False, False, True, False, True, False, False, False, False, True, \\\n",
    "       False, False, False, False, False, True, True, False, False, True, True, True, True, False, False, \\\n",
    "       True, True, False, False, False, False, False, False, False, False]\n",
    "\n",
    "subject_selected_egg_folds = []\n",
    "for s in subject_egg_data_folds:\n",
    "    subject_selected_egg_folds.append(s[:,mask,:])\n",
    "\n",
    "# Check the shape\n",
    "subject_selected_egg_folds[0].shape"
   ]
  },
  {
   "cell_type": "code",
   "execution_count": 6,
   "metadata": {},
   "outputs": [
    {
     "name": "stdout",
     "output_type": "stream",
     "text": [
      "(1280, 15, 4030)\n",
      "(1280, 60450)\n",
      "(1280, 15, 4030)\n"
     ]
    }
   ],
   "source": [
    "\n",
    "# Split each sample into 10 sample (400 experiment per subject) \n",
    "\n",
    "X = np.concatenate(subject_selected_egg_folds, axis=0)\n",
    "print  X.shape\n",
    "X_reshaped=X.reshape(X.shape[0], X.shape[1]*X.shape[2])\n",
    "print X_reshaped.shape\n",
    "X_reshaped_norm = scale(X_reshaped)\n",
    "X_norm = X_reshaped_norm.reshape(X.shape[0], X.shape[1],X.shape[2])\n",
    "print  X_norm.shape\n",
    "my_egg_data = []\n",
    "for egg_fold in subject_selected_egg_folds:\n",
    "    \n",
    "    subject_splited = np.split(egg_fold, 10, axis=-1)\n",
    "    augmented_subject = np.concatenate(subject_splited)\n",
    "    \n",
    "    my_egg_data.append(augmented_subject)\n",
    "\n"
   ]
  },
  {
   "cell_type": "code",
   "execution_count": 7,
   "metadata": {},
   "outputs": [],
   "source": [
    "# Repeat the labels for experiments\n",
    "\n",
    "new_valence_folds = []\n",
    "for l in valence_folds:\n",
    "    new_l = l.repeat(10, axis=0)\n",
    "    new_valence_folds.append(new_l)\n"
   ]
  },
  {
   "cell_type": "code",
   "execution_count": 8,
   "metadata": {},
   "outputs": [
    {
     "data": {
      "text/plain": [
       "(400, 15, 403)"
      ]
     },
     "execution_count": 8,
     "metadata": {},
     "output_type": "execute_result"
    }
   ],
   "source": [
    "my_egg_data[0].shape"
   ]
  },
  {
   "cell_type": "code",
   "execution_count": 9,
   "metadata": {},
   "outputs": [],
   "source": [
    "from scipy.signal import periodogram\n",
    "import numpy as np\n",
    "from scipy.stats import skew, kurtosis\n",
    "\n",
    "def psd(data):\n",
    "    \n",
    "    \n",
    "        def summerize(sub_band):\n",
    "            \n",
    "            exp, ch, r = sub_band.shape\n",
    "            \n",
    "            sub_band_summerized = np.sum(np.square(sub_band), axis=-1, keepdims=True)\n",
    "            \"\"\"\n",
    "            # Mean of the sub band\n",
    "            sub_band_summerized = sub_band.mean(axis=-1, keepdims=True)\n",
    "            \n",
    "            # Median of the sub band\n",
    "            sub_band_summerized = np.append(sub_band_summerized, np.median(sub_band, axis=-1, keepdims=True), axis=-1)\n",
    "            \n",
    "            # Maximum of the sub band\n",
    "            sub_band_summerized = np.append(sub_band_summerized, np.amax(sub_band, axis=-1, keepdims=True), axis=-1)\n",
    "            \n",
    "            # Minimum of the sub band\n",
    "            sub_band_summerized = np.append(sub_band_summerized, np.amin(sub_band, axis=-1, keepdims=True), axis=-1)\n",
    "            \n",
    "            # Std of the sub band\n",
    "            sub_band_summerized = np.append(sub_band_summerized, np.std(sub_band, axis=-1, keepdims=True), axis=-1)\n",
    "            \n",
    "            # Variance of the sub band\n",
    "            sub_band_summerized = np.append(sub_band_summerized, np.var(sub_band, axis=-1, keepdims=True), axis=-1)\n",
    "            \n",
    "            # Range of the sub band\n",
    "            _range = np.ptp(sub_band, axis=-1)\n",
    "            _range = _range.reshape(exp,ch,1)\n",
    "            sub_band_summerized=np.append(sub_band_summerized, _range, axis=-1)\n",
    "            \n",
    "            # Skewness of the sub band\n",
    "            _skew = skew(sub_band, axis=-1)\n",
    "            _skew = _skew.reshape(exp,ch,1)\n",
    "            sub_band_summerized=np.append(sub_band_summerized, _range, axis=-1)\n",
    "            \n",
    "            # Kurtosis of the sub band\n",
    "            _kurtosis= kurtosis(sub_band, axis=-1)\n",
    "            _kurtosis = _kurtosis.reshape(exp,ch,1)\n",
    "            sub_band_summerized=np.append(sub_band_summerized, _range, axis=-1)\n",
    "            \"\"\"\n",
    "            return sub_band_summerized\n",
    "        \n",
    "        sub_band_list = []\n",
    "        # Theta band 4-7Hz\n",
    "        _, theta4 = periodogram(data, fs=4.0, window='hann', axis=-1)\n",
    "        _, theta5 = periodogram(data, fs=5.0, window='hann', axis=-1)\n",
    "        _, theta6 = periodogram(data, fs=6.0, window='hann', axis=-1)\n",
    "        _, theta7 = periodogram(data, fs=7.0, window='hann', axis=-1)\n",
    "        \n",
    "        sub_band_list.append(theta4)\n",
    "        sub_band_list.append(theta5)\n",
    "        sub_band_list.append(theta6)\n",
    "        sub_band_list.append(theta7)\n",
    "        \n",
    "        # Alpha band 8-12Hz\n",
    "        _, alpha8 = periodogram(data, fs=8.0, window='hann', axis=-1)\n",
    "        _, alpha9 = periodogram(data, fs=9.0, window='hann', axis=-1)\n",
    "        _, alpha11 = periodogram(data, fs=11.0, window='hann', axis=-1)\n",
    "        _, alpha12 = periodogram(data, fs=12.0, window='hann', axis=-1)\n",
    "        \n",
    "        \n",
    "        sub_band_list.append(alpha8)\n",
    "        sub_band_list.append(alpha9)\n",
    "        sub_band_list.append(alpha11)\n",
    "        sub_band_list.append(alpha12)\n",
    "        \n",
    "        # Lower Beta band 13-21Hz\n",
    "        _, lBetha13 = periodogram(data, fs=13.0, window='hann', axis=-1)\n",
    "        _, lBetha16 = periodogram(data, fs=16.0, window='hann', axis=-1)\n",
    "        _, lBetha19 = periodogram(data, fs=19.0, window='hann', axis=-1)\n",
    "        _, lBetha21 = periodogram(data, fs=21.0, window='hann', axis=-1)\n",
    "        \n",
    "        sub_band_list.append(lBetha13)\n",
    "        sub_band_list.append(lBetha16)\n",
    "        sub_band_list.append(lBetha19)\n",
    "        sub_band_list.append(lBetha21)\n",
    "        \n",
    "        \n",
    "        # Upper Beta band 22-30Hz\n",
    "        _, uBetha22 = periodogram(data, fs=22.0, window='hann', axis=-1)\n",
    "        _, uBetha24 = periodogram(data, fs=24.0, window='hann', axis=-1)\n",
    "        _, uBetha27 = periodogram(data, fs=27.0, window='hann', axis=-1)\n",
    "        _, uBetha30 = periodogram(data, fs=30.0, window='hann', axis=-1)\n",
    "        \n",
    "        sub_band_list.append(uBetha22)\n",
    "        sub_band_list.append(uBetha24)\n",
    "        sub_band_list.append(uBetha27)\n",
    "        sub_band_list.append(uBetha30)\n",
    "        \n",
    "        # Gamma band 30-45Hz\n",
    "        _, gamma32 = periodogram(data, fs=32.0, window='hann', axis=-1)\n",
    "        _, gamma37 = periodogram(data, fs=37.0, window='hann', axis=-1)\n",
    "        _, gamma41 = periodogram(data, fs=41.0, window='hann', axis=-1)\n",
    "        _, gamma45 = periodogram(data, fs=45.0, window='hann', axis=-1)\n",
    "        \n",
    "        sub_band_list.append(gamma32)\n",
    "        sub_band_list.append(gamma37)\n",
    "        sub_band_list.append(gamma41)\n",
    "        sub_band_list.append(gamma45)\n",
    "        \n",
    "        sub_band_list_summerized = []\n",
    "        for sub_band in sub_band_list:\n",
    "            sub_band_list_summerized.append(summerize(sub_band))\n",
    "        data_summerized = np.concatenate(sub_band_list_summerized, axis=-1)\n",
    "            \n",
    "        return data_summerized \n",
    "    \n",
    "    \n",
    "    "
   ]
  },
  {
   "cell_type": "code",
   "execution_count": 10,
   "metadata": {},
   "outputs": [],
   "source": [
    "train_data = []\n",
    "for data in my_egg_data:\n",
    "    train_data.append(psd(data))"
   ]
  },
  {
   "cell_type": "code",
   "execution_count": 11,
   "metadata": {},
   "outputs": [
    {
     "data": {
      "text/plain": [
       "(400, 15, 20)"
      ]
     },
     "execution_count": 11,
     "metadata": {},
     "output_type": "execute_result"
    }
   ],
   "source": [
    "train_data[0].shape"
   ]
  },
  {
   "cell_type": "code",
   "execution_count": 12,
   "metadata": {},
   "outputs": [],
   "source": [
    "\n",
    "\n",
    "with open('train_data.pickle', 'wb') as handle:\n",
    "    pickle.dump(train_data, handle, protocol=pickle.HIGHEST_PROTOCOL)\n",
    "\n",
    "with open('new_valence_folds.pickle', 'wb') as handle:\n",
    "    pickle.dump(new_valence_folds, handle, protocol=pickle.HIGHEST_PROTOCOL)\n",
    "    \n"
   ]
  },
  {
   "cell_type": "code",
   "execution_count": 13,
   "metadata": {},
   "outputs": [],
   "source": [
    "# import libraries\n",
    "import numpy as np\n",
    "import matplotlib.pyplot as plt\n",
    "import time\n",
    "import pickle\n",
    "from keras.callbacks import ModelCheckpoint, EarlyStopping, TensorBoard\n",
    "from keras.models import load_model\n",
    "from keras import metrics\n",
    "from sklearn.preprocessing import scale\n",
    "from keras.regularizers import l2\n",
    "import models.nnmodels as nn\n",
    "import utils.data as data\n",
    "\n",
    "import gc\n",
    "gc.enable()\n",
    "seed = 0\n",
    "np.random.seed(seed)\n",
    "%matplotlib inline\n",
    "\n",
    "\n",
    "with open('train_data.pickle', 'rb') as handle:\n",
    "    train_data = pickle.load(handle)\n",
    "    \n",
    "with open('new_valence_folds.pickle', 'rb') as handle:\n",
    "    new_valence_folds = pickle.load(handle)"
   ]
  },
  {
   "cell_type": "code",
   "execution_count": 14,
   "metadata": {},
   "outputs": [
    {
     "name": "stdout",
     "output_type": "stream",
     "text": [
      "32\n",
      "(400, 15, 20)\n",
      "(400, 2)\n"
     ]
    }
   ],
   "source": [
    "print len(train_data)\n",
    "print train_data[0].shape\n",
    "print new_valence_folds[0].shape"
   ]
  },
  {
   "cell_type": "code",
   "execution_count": 3,
   "metadata": {},
   "outputs": [],
   "source": [
    "train_data = train_data_15ch"
   ]
  },
  {
   "cell_type": "code",
   "execution_count": 15,
   "metadata": {},
   "outputs": [
    {
     "data": {
      "text/plain": [
       "(12800, 15, 20)"
      ]
     },
     "execution_count": 15,
     "metadata": {},
     "output_type": "execute_result"
    }
   ],
   "source": [
    "X_train = np.concatenate(train_data)\n",
    "X_train.shape"
   ]
  },
  {
   "cell_type": "code",
   "execution_count": 16,
   "metadata": {},
   "outputs": [
    {
     "name": "stdout",
     "output_type": "stream",
     "text": [
      "[-0.06895836 -0.06895836 -0.06895836 -0.06895836 -0.06895836 -0.06895836\n",
      " -0.06895836 -0.06895836 -0.06895836 -0.06895836 -0.06895836 -0.06895836\n",
      " -0.06895836 -0.06895836 -0.06895836 -0.06895836 -0.06895836 -0.06895836\n",
      " -0.06895836 -0.06895836]\n"
     ]
    },
    {
     "name": "stderr",
     "output_type": "stream",
     "text": [
      "/home/omid/venv2/local/lib/python2.7/site-packages/sklearn/preprocessing/data.py:164: UserWarning: Numerical issues were encountered when centering the data and might not be solved. Dataset may contain too large values. You may need to prescale your features.\n",
      "  warnings.warn(\"Numerical issues were encountered \"\n"
     ]
    }
   ],
   "source": [
    "X_train = X_train.reshape(12800, 15*20)\n",
    "X_norm = scale(X_train)\n",
    "\n",
    "X_norm = X_norm.reshape(12800, 15, 20)\n",
    "\n",
    "train_data = np.split(X_norm, 32)\n",
    "\n",
    "print train_data[0][365,14,:]"
   ]
  },
  {
   "cell_type": "code",
   "execution_count": null,
   "metadata": {},
   "outputs": [
    {
     "name": "stdout",
     "output_type": "stream",
     "text": [
      "##### Two Classes Classification for Valence emotion Using Convolutional Neural Network #####\n",
      "\n",
      "_________________________________________________________________\n",
      "Layer (type)                 Output Shape              Param #   \n",
      "=================================================================\n",
      "conv2d_7 (Conv2D)            (None, 8, 1, 18)          368       \n",
      "_________________________________________________________________\n",
      "activation_13 (Activation)   (None, 8, 1, 18)          0         \n",
      "_________________________________________________________________\n",
      "conv2d_8 (Conv2D)            (None, 8, 1, 16)          304       \n",
      "_________________________________________________________________\n",
      "activation_14 (Activation)   (None, 8, 1, 16)          0         \n",
      "_________________________________________________________________\n",
      "dropout_7 (Dropout)          (None, 8, 1, 16)          0         \n",
      "_________________________________________________________________\n",
      "flatten_4 (Flatten)          (None, 128)               0         \n",
      "_________________________________________________________________\n",
      "dense_7 (Dense)              (None, 128)               16512     \n",
      "_________________________________________________________________\n",
      "activation_15 (Activation)   (None, 128)               0         \n",
      "_________________________________________________________________\n",
      "dropout_8 (Dropout)          (None, 128)               0         \n",
      "_________________________________________________________________\n",
      "dense_8 (Dense)              (None, 2)                 258       \n",
      "_________________________________________________________________\n",
      "activation_16 (Activation)   (None, 2)                 0         \n",
      "=================================================================\n",
      "Total params: 17,442\n",
      "Trainable params: 17,442\n",
      "Non-trainable params: 0\n",
      "_________________________________________________________________\n",
      "None\n",
      "Train on 12400 samples, validate on 400 samples\n",
      "Epoch 1/50\n",
      "12400/12400 [==============================] - 1s 106us/step - loss: 0.6931 - categorical_accuracy: 0.5541 - val_loss: 0.7101 - val_categorical_accuracy: 0.4750\n",
      "Epoch 2/50\n",
      "12400/12400 [==============================] - 1s 91us/step - loss: 0.6899 - categorical_accuracy: 0.5561 - val_loss: 0.7083 - val_categorical_accuracy: 0.4750\n",
      "Epoch 3/50\n",
      "12400/12400 [==============================] - 1s 91us/step - loss: 0.6881 - categorical_accuracy: 0.5577 - val_loss: 0.7039 - val_categorical_accuracy: 0.4750\n",
      "Epoch 4/50\n",
      "12400/12400 [==============================] - 1s 90us/step - loss: 0.6876 - categorical_accuracy: 0.5569 - val_loss: 0.6995 - val_categorical_accuracy: 0.4750\n",
      "Epoch 5/50\n",
      "12000/12400 [============================>.] - ETA: 0s - loss: 0.6875 - categorical_accuracy: 0.5557Epoch 00005: val_categorical_accuracy improved from -inf to 0.47500, saving model to ../saved_models/best_Cnn1D_model_for_s01_valence(3classes).h5\n",
      "12400/12400 [==============================] - 1s 96us/step - loss: 0.6875 - categorical_accuracy: 0.5552 - val_loss: 0.7011 - val_categorical_accuracy: 0.4750\n",
      "Epoch 6/50\n",
      "12400/12400 [==============================] - 1s 89us/step - loss: 0.6886 - categorical_accuracy: 0.5560 - val_loss: 0.7079 - val_categorical_accuracy: 0.4750\n",
      "Epoch 7/50\n",
      "12400/12400 [==============================] - 1s 91us/step - loss: 0.6894 - categorical_accuracy: 0.5579 - val_loss: 0.7039 - val_categorical_accuracy: 0.4750\n",
      "Epoch 8/50\n",
      "12400/12400 [==============================] - 1s 92us/step - loss: 0.6872 - categorical_accuracy: 0.5574 - val_loss: 0.7024 - val_categorical_accuracy: 0.4750\n",
      "Epoch 9/50\n",
      "12400/12400 [==============================] - 1s 92us/step - loss: 0.6878 - categorical_accuracy: 0.5567 - val_loss: 0.7013 - val_categorical_accuracy: 0.4750\n",
      "Epoch 10/50\n",
      "12250/12400 [============================>.] - ETA: 0s - loss: 0.6871 - categorical_accuracy: 0.5567Epoch 00010: val_categorical_accuracy did not improve\n",
      "12400/12400 [==============================] - 1s 91us/step - loss: 0.6871 - categorical_accuracy: 0.5565 - val_loss: 0.7131 - val_categorical_accuracy: 0.4750\n",
      "Epoch 11/50\n",
      "12400/12400 [==============================] - 1s 93us/step - loss: 0.6875 - categorical_accuracy: 0.5570 - val_loss: 0.7072 - val_categorical_accuracy: 0.4750\n",
      "Epoch 12/50\n",
      "12400/12400 [==============================] - 1s 92us/step - loss: 0.6873 - categorical_accuracy: 0.5555 - val_loss: 0.7064 - val_categorical_accuracy: 0.4750\n",
      "Epoch 13/50\n",
      "12400/12400 [==============================] - 1s 91us/step - loss: 0.6874 - categorical_accuracy: 0.5556 - val_loss: 0.7054 - val_categorical_accuracy: 0.4750\n",
      "Epoch 14/50\n",
      "12400/12400 [==============================] - 1s 91us/step - loss: 0.6872 - categorical_accuracy: 0.5556 - val_loss: 0.7039 - val_categorical_accuracy: 0.4750\n",
      "Epoch 15/50\n",
      "12300/12400 [============================>.] - ETA: 0s - loss: 0.6871 - categorical_accuracy: 0.5557Epoch 00015: val_categorical_accuracy did not improve\n",
      "12400/12400 [==============================] - 1s 91us/step - loss: 0.6872 - categorical_accuracy: 0.5556 - val_loss: 0.7062 - val_categorical_accuracy: 0.4750\n",
      "Epoch 16/50\n",
      "12400/12400 [==============================] - 1s 94us/step - loss: 0.6874 - categorical_accuracy: 0.5556 - val_loss: 0.7037 - val_categorical_accuracy: 0.4750\n",
      "Epoch 17/50\n",
      "12400/12400 [==============================] - 1s 92us/step - loss: 0.6871 - categorical_accuracy: 0.5556 - val_loss: 0.7043 - val_categorical_accuracy: 0.4750\n",
      "Epoch 18/50\n",
      "12400/12400 [==============================] - 1s 94us/step - loss: 0.6870 - categorical_accuracy: 0.5556 - val_loss: 0.7011 - val_categorical_accuracy: 0.4750\n",
      "Epoch 19/50\n",
      "12400/12400 [==============================] - 1s 94us/step - loss: 0.6870 - categorical_accuracy: 0.5556 - val_loss: 0.7066 - val_categorical_accuracy: 0.4750\n",
      "Epoch 20/50\n",
      "12100/12400 [============================>.] - ETA: 0s - loss: 0.6870 - categorical_accuracy: 0.5560Epoch 00020: val_categorical_accuracy did not improve\n",
      "12400/12400 [==============================] - 1s 92us/step - loss: 0.6870 - categorical_accuracy: 0.5556 - val_loss: 0.7053 - val_categorical_accuracy: 0.4750\n",
      "Epoch 21/50\n",
      "12400/12400 [==============================] - 1s 91us/step - loss: 0.6871 - categorical_accuracy: 0.5556 - val_loss: 0.7028 - val_categorical_accuracy: 0.4750\n",
      "Epoch 22/50\n",
      "12400/12400 [==============================] - 1s 93us/step - loss: 0.6873 - categorical_accuracy: 0.5556 - val_loss: 0.7067 - val_categorical_accuracy: 0.4750\n",
      "Epoch 23/50\n",
      "12400/12400 [==============================] - 1s 93us/step - loss: 0.6870 - categorical_accuracy: 0.5556 - val_loss: 0.7028 - val_categorical_accuracy: 0.4750\n",
      "Epoch 24/50\n",
      "12400/12400 [==============================] - 1s 92us/step - loss: 0.6871 - categorical_accuracy: 0.5556 - val_loss: 0.7065 - val_categorical_accuracy: 0.4750\n",
      "Epoch 25/50\n",
      "11850/12400 [===========================>..] - ETA: 0s - loss: 0.6873 - categorical_accuracy: 0.5549Epoch 00025: val_categorical_accuracy did not improve\n",
      "12400/12400 [==============================] - 1s 90us/step - loss: 0.6871 - categorical_accuracy: 0.5556 - val_loss: 0.7067 - val_categorical_accuracy: 0.4750\n",
      "Epoch 26/50\n",
      "12400/12400 [==============================] - 1s 90us/step - loss: 0.6871 - categorical_accuracy: 0.5556 - val_loss: 0.7037 - val_categorical_accuracy: 0.4750\n",
      "Epoch 27/50\n",
      "12400/12400 [==============================] - 1s 89us/step - loss: 0.6872 - categorical_accuracy: 0.5556 - val_loss: 0.7064 - val_categorical_accuracy: 0.4750\n",
      "Epoch 28/50\n",
      "12400/12400 [==============================] - 1s 86us/step - loss: 0.6871 - categorical_accuracy: 0.5556 - val_loss: 0.7037 - val_categorical_accuracy: 0.4750\n",
      "Epoch 29/50\n",
      "12400/12400 [==============================] - 1s 86us/step - loss: 0.6871 - categorical_accuracy: 0.5556 - val_loss: 0.7029 - val_categorical_accuracy: 0.4750\n",
      "Epoch 30/50\n",
      "12100/12400 [============================>.] - ETA: 0s - loss: 0.6872 - categorical_accuracy: 0.5556Epoch 00030: val_categorical_accuracy did not improve\n",
      "12400/12400 [==============================] - 1s 88us/step - loss: 0.6872 - categorical_accuracy: 0.5556 - val_loss: 0.7039 - val_categorical_accuracy: 0.4750\n",
      "Epoch 31/50\n"
     ]
    },
    {
     "name": "stdout",
     "output_type": "stream",
     "text": [
      "12400/12400 [==============================] - 1s 86us/step - loss: 0.6871 - categorical_accuracy: 0.5556 - val_loss: 0.7034 - val_categorical_accuracy: 0.4750\n",
      "Epoch 32/50\n",
      "12400/12400 [==============================] - 1s 87us/step - loss: 0.6871 - categorical_accuracy: 0.5556 - val_loss: 0.7027 - val_categorical_accuracy: 0.4750\n",
      "Epoch 33/50\n",
      "12400/12400 [==============================] - 1s 89us/step - loss: 0.6869 - categorical_accuracy: 0.5556 - val_loss: 0.7078 - val_categorical_accuracy: 0.4750\n",
      "Epoch 34/50\n",
      "12400/12400 [==============================] - 1s 91us/step - loss: 0.6871 - categorical_accuracy: 0.5556 - val_loss: 0.7065 - val_categorical_accuracy: 0.4750\n",
      "Epoch 35/50\n",
      "11850/12400 [===========================>..] - ETA: 0s - loss: 0.6872 - categorical_accuracy: 0.5551Epoch 00035: val_categorical_accuracy did not improve\n",
      "12400/12400 [==============================] - 1s 91us/step - loss: 0.6870 - categorical_accuracy: 0.5556 - val_loss: 0.7065 - val_categorical_accuracy: 0.4750\n",
      "Epoch 36/50\n",
      "12400/12400 [==============================] - 1s 92us/step - loss: 0.6872 - categorical_accuracy: 0.5556 - val_loss: 0.7056 - val_categorical_accuracy: 0.4750\n",
      "Epoch 37/50\n",
      "12400/12400 [==============================] - 1s 91us/step - loss: 0.6870 - categorical_accuracy: 0.5556 - val_loss: 0.7044 - val_categorical_accuracy: 0.4750\n",
      "Epoch 38/50\n",
      "12400/12400 [==============================] - 1s 91us/step - loss: 0.6871 - categorical_accuracy: 0.5556 - val_loss: 0.7061 - val_categorical_accuracy: 0.4750\n",
      "Epoch 39/50\n",
      "12400/12400 [==============================] - 1s 91us/step - loss: 0.6873 - categorical_accuracy: 0.5556 - val_loss: 0.7046 - val_categorical_accuracy: 0.4750\n",
      "Epoch 40/50\n",
      "12000/12400 [============================>.] - ETA: 0s - loss: 0.6873 - categorical_accuracy: 0.5557Epoch 00040: val_categorical_accuracy did not improve\n",
      "12400/12400 [==============================] - 1s 91us/step - loss: 0.6873 - categorical_accuracy: 0.5556 - val_loss: 0.7043 - val_categorical_accuracy: 0.4750\n",
      "Epoch 41/50\n",
      "12400/12400 [==============================] - 1s 91us/step - loss: 0.6872 - categorical_accuracy: 0.5556 - val_loss: 0.7049 - val_categorical_accuracy: 0.4750\n",
      "Epoch 42/50\n",
      "12400/12400 [==============================] - 1s 92us/step - loss: 0.6870 - categorical_accuracy: 0.5556 - val_loss: 0.7081 - val_categorical_accuracy: 0.4750\n",
      "Epoch 43/50\n",
      "12400/12400 [==============================] - 1s 91us/step - loss: 0.6872 - categorical_accuracy: 0.5556 - val_loss: 0.7046 - val_categorical_accuracy: 0.4750\n",
      "Epoch 44/50\n",
      "12400/12400 [==============================] - 1s 92us/step - loss: 0.6872 - categorical_accuracy: 0.5556 - val_loss: 0.7066 - val_categorical_accuracy: 0.4750\n",
      "Epoch 45/50\n",
      "12150/12400 [============================>.] - ETA: 0s - loss: 0.6870 - categorical_accuracy: 0.5557Epoch 00045: val_categorical_accuracy did not improve\n",
      "12400/12400 [==============================] - 1s 92us/step - loss: 0.6870 - categorical_accuracy: 0.5556 - val_loss: 0.7051 - val_categorical_accuracy: 0.4750\n",
      "Epoch 46/50\n",
      "12400/12400 [==============================] - 1s 92us/step - loss: 0.6871 - categorical_accuracy: 0.5556 - val_loss: 0.7042 - val_categorical_accuracy: 0.4750\n",
      "Epoch 47/50\n",
      "12400/12400 [==============================] - 1s 92us/step - loss: 0.6871 - categorical_accuracy: 0.5556 - val_loss: 0.7062 - val_categorical_accuracy: 0.4750\n",
      "Epoch 48/50\n",
      "12400/12400 [==============================] - 1s 91us/step - loss: 0.6870 - categorical_accuracy: 0.5556 - val_loss: 0.7030 - val_categorical_accuracy: 0.4750\n",
      "Epoch 49/50\n",
      "12400/12400 [==============================] - 1s 92us/step - loss: 0.6871 - categorical_accuracy: 0.5556 - val_loss: 0.7054 - val_categorical_accuracy: 0.4750\n",
      "Epoch 50/50\n",
      "11850/12400 [===========================>..] - ETA: 0s - loss: 0.6869 - categorical_accuracy: 0.5569Epoch 00050: val_categorical_accuracy did not improve\n",
      "12400/12400 [==============================] - 1s 91us/step - loss: 0.6872 - categorical_accuracy: 0.5556 - val_loss: 0.7035 - val_categorical_accuracy: 0.4750\n",
      "#### Result of CNN model for subject 01 #####\n",
      "\n",
      "Accuracy : 0%\n",
      "Training time: 57.3089699745\n"
     ]
    },
    {
     "data": {
      "image/png": "[encoded data removed]",
      "text/plain": [
       "<matplotlib.figure.Figure at 0x7f1f11226d10>"
      ]
     },
     "metadata": {},
     "output_type": "display_data"
    },
    {
     "data": {
      "image/png": "[encoded data removed]",
      "text/plain": [
       "<matplotlib.figure.Figure at 0x7f20be7dde90>"
      ]
     },
     "metadata": {},
     "output_type": "display_data"
    },
    {
     "name": "stdout",
     "output_type": "stream",
     "text": [
      "_________________________________________________________________\n",
      "Layer (type)                 Output Shape              Param #   \n",
      "=================================================================\n",
      "conv2d_9 (Conv2D)            (None, 8, 1, 18)          368       \n",
      "_________________________________________________________________\n",
      "activation_17 (Activation)   (None, 8, 1, 18)          0         \n",
      "_________________________________________________________________\n",
      "conv2d_10 (Conv2D)           (None, 8, 1, 16)          304       \n",
      "_________________________________________________________________\n",
      "activation_18 (Activation)   (None, 8, 1, 16)          0         \n",
      "_________________________________________________________________\n",
      "dropout_9 (Dropout)          (None, 8, 1, 16)          0         \n",
      "_________________________________________________________________\n",
      "flatten_5 (Flatten)          (None, 128)               0         \n",
      "_________________________________________________________________\n",
      "dense_9 (Dense)              (None, 128)               16512     \n",
      "_________________________________________________________________\n",
      "activation_19 (Activation)   (None, 128)               0         \n",
      "_________________________________________________________________\n",
      "dropout_10 (Dropout)         (None, 128)               0         \n",
      "_________________________________________________________________\n",
      "dense_10 (Dense)             (None, 2)                 258       \n",
      "_________________________________________________________________\n",
      "activation_20 (Activation)   (None, 2)                 0         \n",
      "=================================================================\n",
      "Total params: 17,442\n",
      "Trainable params: 17,442\n",
      "Non-trainable params: 0\n",
      "_________________________________________________________________\n",
      "None\n",
      "Train on 12400 samples, validate on 400 samples\n",
      "Epoch 1/50\n",
      "12400/12400 [==============================] - 1s 109us/step - loss: 0.6930 - categorical_accuracy: 0.5531 - val_loss: 0.7322 - val_categorical_accuracy: 0.5500\n",
      "Epoch 2/50\n",
      "12400/12400 [==============================] - 1s 92us/step - loss: 0.6893 - categorical_accuracy: 0.5543 - val_loss: 0.6890 - val_categorical_accuracy: 0.5400\n",
      "Epoch 3/50\n",
      "12400/12400 [==============================] - 1s 92us/step - loss: 0.6902 - categorical_accuracy: 0.5538 - val_loss: 0.6911 - val_categorical_accuracy: 0.5250\n",
      "Epoch 4/50\n",
      "12400/12400 [==============================] - 1s 92us/step - loss: 0.6893 - categorical_accuracy: 0.5546 - val_loss: 0.6893 - val_categorical_accuracy: 0.5450\n",
      "Epoch 5/50\n",
      "11900/12400 [===========================>..] - ETA: 0s - loss: 0.6880 - categorical_accuracy: 0.5539Epoch 00005: val_categorical_accuracy improved from -inf to 0.55000, saving model to ../saved_models/best_Cnn1D_model_for_s02_valence(3classes).h5\n",
      "12400/12400 [==============================] - 1s 100us/step - loss: 0.6880 - categorical_accuracy: 0.5540 - val_loss: 0.6889 - val_categorical_accuracy: 0.5500\n",
      "Epoch 6/50\n",
      " 1150/12400 [=>............................] - ETA: 1s - loss: 0.6857 - categorical_accuracy: 0.5617"
     ]
    }
   ],
   "source": [
    "\n",
    "\n",
    "num_subjects = 32\n",
    "batch_size = 50\n",
    "epochs = 50\n",
    "num_exp = 40\n",
    "\n",
    "\n",
    "accuracies = []\n",
    "\n",
    "print '##### Two Classes Classification for Valence emotion Using Convolutional Neural Network #####\\n'\n",
    "\n",
    "num_subjects = 32\n",
    "\n",
    "for s in np.arange(0, num_subjects):\n",
    "    \n",
    "\n",
    "    \n",
    "    \"\"\"\n",
    "    X_val = reduced_data_folds[s]\n",
    "    X_val = np.expand_dims(X_val, axis=1)\n",
    "    y_val = valence_folds[s]\n",
    "    \n",
    "    X_remaining_folds = reduced_data_folds[:s]  + reduced_data_folds[s+1:]\n",
    "    y_remaining_folds = valence_folds[:s] + valence_folds[s+1:]\n",
    "    X_train = np.concatenate(X_remaining_folds)\n",
    "    X_train = np.expand_dims(X_train, axis=1)  \n",
    "    y_train = np.concatenate(y_remaining_folds)\n",
    "    \n",
    "    \n",
    "    \"\"\"\n",
    "    start_time = time.time()\n",
    "    \n",
    "    X_val = train_data[s]\n",
    "    X_val = np.expand_dims(X_val, axis=1)\n",
    "    y_val = new_valence_folds[s]\n",
    "    \n",
    "    X_remaining_folds = train_data[:s]  + train_data[s+1:]\n",
    "    y_remaining_folds = new_valence_folds[:s] + new_valence_folds[s+1:]\n",
    "    X_train = np.concatenate(X_remaining_folds)\n",
    "    X_train = np.expand_dims(X_train, axis=1)  \n",
    "    y_train = np.concatenate(y_remaining_folds)\n",
    "\n",
    "    model = nn.CnnNew(num_classes=2, emotion='valence', input_shape=X_train.shape[1:])\n",
    "\n",
    "\n",
    "\n",
    "    key = 's'+str(s+1).zfill(2)+'_valence(3classes)'\n",
    "    \n",
    "    \n",
    "\n",
    "    \n",
    "    \n",
    "# checkpoint\n",
    "    filepath=\"../saved_models/best_Cnn1D_model_for_{}.h5\".format(key)\n",
    "\n",
    "    checkpoint = ModelCheckpoint(filepath, monitor='val_categorical_accuracy',\n",
    "                                verbose=1, save_best_only=True, mode='max', period=5)\n",
    "    \n",
    "    #tensorboard = TensorBoard(log_dir='../logs', histogram_freq=1, batch_size=50, write_graph=True, \\\n",
    "        #write_grads=True, write_images=True)\n",
    "    \n",
    "    callbacks_list = [checkpoint]#, tensorboard]    \n",
    "    \n",
    "       \n",
    "    hist = model.fit(X_train, y_train, \n",
    "             batch_size=batch_size,\n",
    "             epochs=epochs,\n",
    "             shuffle=True,\n",
    "             verbose=1,\n",
    "             validation_data=(X_val, y_val), callbacks=callbacks_list)\n",
    "\n",
    "    model.load_weights(filepath)\n",
    "    \n",
    "    #scores = model.evaluate(x=X_val, y=y_val)\n",
    "    \n",
    "    y_val_pred = model.predict(X_val, batch_size=50)\n",
    "    \n",
    "    accuracy = np.sum(y_val_pred==y_val)/(2*len(y_val))\n",
    "\n",
    "    print '#### Result of CNN model for subject {} #####\\n'.format(str(s+1).zfill(2))\n",
    "    print \"Accuracy : {}%\".format( accuracy*100)\n",
    "    \n",
    "    print 'Training time: {}'.format(time.time() - start_time)\n",
    "\n",
    "\n",
    "    accuracies.append(accuracy)\n",
    "    # summarize history for accuracy\n",
    "    plt.plot(hist.history['categorical_accuracy'])\n",
    "    plt.plot(hist.history['val_categorical_accuracy'])\n",
    "    plt.title('Subject ' +str(s+1).zfill(2)+ ' CNN model accuracy for Valence')\n",
    "    plt.ylabel('accuracy')\n",
    "    plt.xlabel('epoch')\n",
    "    plt.legend(['train', 'test'], loc='upper left')\n",
    "    plt.show()\n",
    "    \n",
    "    \n",
    "    # summarize history for loss\n",
    "    plt.plot(hist.history['loss'])\n",
    "    plt.plot(hist.history['val_loss'])\n",
    "    plt.title('Subject ' +str(s+1).zfill(2)+ ' CNN model loss for Valence')\n",
    "    plt.ylabel('loss')\n",
    "    plt.xlabel('epoch')\n",
    "    plt.legend(['train', 'test'], loc='upper left')\n",
    "    plt.show()"
   ]
  },
  {
   "cell_type": "code",
   "execution_count": 6,
   "metadata": {},
   "outputs": [
    {
     "data": {
      "text/plain": [
       "0"
      ]
     },
     "execution_count": 6,
     "metadata": {},
     "output_type": "execute_result"
    }
   ],
   "source": [
    "accuracy"
   ]
  },
  {
   "cell_type": "code",
   "execution_count": null,
   "metadata": {},
   "outputs": [],
   "source": [
    "min_acc_subject_idx, max_acc_subject_idx = np.argmin(accuracies), np.argmax(accuracies)\n",
    "\n",
    "avg_acc =  reduce(lambda x, y: x + y, accuracies) / len(accuracies)\n",
    "\n",
    "print 5*'#' + ' Accuracies per subject ' + 5*'#'\n",
    "\n",
    "print 'Subject {} has the minimum accuracy : {}%'.format(min_acc_subject_idx + 1, min(accuracies)*100)\n",
    "print 'Subject {} has the maximum accuracy : {}%'.format(max_acc_subject_idx + 1, max(accuracies)*100)\n",
    "print 'Average accuracy : {}%'.format(avg_acc*100)\n",
    "\n",
    "for subj in enumerate(accuracies):\n",
    "    print 'Accuracy of Subject {} : {}%'.format(subj[0]+1, subj[1]*100)"
   ]
  },
  {
   "cell_type": "code",
   "execution_count": null,
   "metadata": {},
   "outputs": [],
   "source": []
  }
 ],
 "metadata": {
  "kernelspec": {
   "display_name": "Python 2",
   "language": "python",
   "name": "python2"
  },
  "language_info": {
   "codemirror_mode": {
    "name": "ipython",
    "version": 2
   },
   "file_extension": ".py",
   "mimetype": "text/x-python",
   "name": "python",
   "nbconvert_exporter": "python",
   "pygments_lexer": "ipython2",
   "version": "2.7.12"
  }
 },
 "nbformat": 4,
 "nbformat_minor": 2
}
