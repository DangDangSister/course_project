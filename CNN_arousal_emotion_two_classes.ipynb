{
 "cells": [
  {
   "cell_type": "markdown",
   "metadata": {},
   "source": [
    "# Import required libraries"
   ]
  },
  {
   "cell_type": "code",
   "execution_count": 1,
   "metadata": {},
   "outputs": [
    {
     "name": "stderr",
     "output_type": "stream",
     "text": [
      "Using TensorFlow backend.\n"
     ]
    }
   ],
   "source": [
    "# import libraries\n",
    "import numpy as np\n",
    "import matplotlib.pyplot as plt\n",
    "import time\n",
    "from keras.callbacks import ModelCheckpoint, EarlyStopping\n",
    "from keras.models import load_model\n",
    "from keras import metrics\n",
    "from keras import regularizers\n",
    "import models.nnmodels as nn\n",
    "import utils.data as data\n",
    "\n",
    "import gc\n",
    "gc.enable()\n",
    "seed = 0\n",
    "np.random.seed(seed)\n",
    "%matplotlib inline\n",
    "\n",
    "import tensorflow as tf\n",
    "from keras.backend.tensorflow_backend import set_session\n",
    "config = tf.ConfigProto()\n",
    "#config.gpu_options.per_process_gpu_memory_fraction = 1\n",
    "config.gpu_options.visible_device_list = \"0\"\n",
    "set_session(tf.Session(config=config))"
   ]
  },
  {
   "cell_type": "markdown",
   "metadata": {},
   "source": [
    "# Load data for two classes classification\n"
   ]
  },
  {
   "cell_type": "code",
   "execution_count": 2,
   "metadata": {},
   "outputs": [
    {
     "name": "stdout",
     "output_type": "stream",
     "text": [
      "Loading DEAP dataset...\n",
      "DEAP dataset is loaded.\n",
      "\n",
      "##### Dataset representation for each subject #####\n",
      "\n",
      "There are 32 subjects in the dataset.\n",
      "\n",
      "(Trail/Video, Channel, Readings) :  (40, 40, 8064)\n",
      "(Trail/Video, label (valence or arousal)) :  (40, 2)\n"
     ]
    }
   ],
   "source": [
    "print 'Loading DEAP dataset...'\n",
    "subject_data_folds, valence_folds, arousal_folds = data.load_deap(32, 2)\n",
    "print 'DEAP dataset is loaded.\\n'\n",
    "\n",
    "print 5*'#' + ' Dataset representation for each subject ' + 5*'#'\n",
    "print '\\nThere are {} subjects in the dataset.\\n'.format(len(subject_data_folds))\n",
    "print '(Trail/Video, Channel, Readings) : ', subject_data_folds[0].shape\n",
    "print '(Trail/Video, label (valence or arousal)) : ', arousal_folds[0].shape\n",
    "\n"
   ]
  },
  {
   "cell_type": "markdown",
   "metadata": {},
   "source": [
    "# Reduce the features dimention (8064D >> 101D)\n",
    "## Then Normalize the features"
   ]
  },
  {
   "cell_type": "code",
   "execution_count": 3,
   "metadata": {},
   "outputs": [
    {
     "name": "stdout",
     "output_type": "stream",
     "text": [
      "Mapping features into Gaussian with mean zero and unit variance...\n",
      "Normalization done.\n"
     ]
    }
   ],
   "source": [
    "# Reduce the features dimension\n",
    "print 'Mapping features into Gaussian with mean zero and unit variance...'\n",
    "reduced_data_folds = data.normalize_features(subject_data_folds, flag=True)\n",
    "print 'Normalization done.'"
   ]
  },
  {
   "cell_type": "markdown",
   "metadata": {},
   "source": [
    "# Train CNN model for two classes (low arousal / High arousal) classification"
   ]
  },
  {
   "cell_type": "code",
   "execution_count": null,
   "metadata": {},
   "outputs": [
    {
     "name": "stdout",
     "output_type": "stream",
     "text": [
      "##### Two Classes Classification for arousal emotion Using Convolutional Neural Network #####\n",
      "\n",
      "Training model to test on subject 01 ...\n",
      "\n",
      "Epoch 00020: val_categorical_accuracy improved from -inf to 0.62500, saving model to ../saved_models/best_CNN_model_for_s01_arousal(2classes).h5\n",
      "Epoch 00040: val_categorical_accuracy did not improve\n",
      "Epoch 00060: val_categorical_accuracy did not improve\n",
      "Epoch 00080: val_categorical_accuracy did not improve\n",
      "Epoch 00100: val_categorical_accuracy did not improve\n",
      "Epoch 00120: val_categorical_accuracy did not improve\n",
      "Epoch 00140: val_categorical_accuracy improved from 0.62500 to 0.65000, saving model to ../saved_models/best_CNN_model_for_s01_arousal(2classes).h5\n",
      "Epoch 00160: val_categorical_accuracy did not improve\n",
      "Epoch 00180: val_categorical_accuracy did not improve\n",
      "Epoch 00200: val_categorical_accuracy did not improve\n",
      "Epoch 00220: val_categorical_accuracy did not improve\n",
      "Epoch 00240: val_categorical_accuracy did not improve\n"
     ]
    }
   ],
   "source": [
    "num_exp = 40\n",
    "num_classes = 2\n",
    "batch_size = 50\n",
    "epochs = 250\n",
    "num_subjects = 32\n",
    "\n",
    "\n",
    "accuracies= []\n",
    "\n",
    "print '##### Two Classes Classification for arousal emotion Using Convolutional Neural Network #####\\n'\n",
    "   \n",
    "\n",
    "for s in np.arange(0, num_subjects):\n",
    "    \n",
    "    start = time.time()\n",
    "    X_val = reduced_data_folds[s]\n",
    "    X_val = X_val.reshape(X_val.shape[0], 1, 40, 101)\n",
    "    y_val = arousal_folds[s]\n",
    "    \n",
    "    X_remaining_folds = reduced_data_folds[:s] + reduced_data_folds[s+1:]\n",
    "    y_remaining_folds = arousal_folds[:s] + arousal_folds[s+1:]\n",
    "    \n",
    "    X_train = np.concatenate(X_remaining_folds)\n",
    "    X_train = X_train.reshape(X_train.shape[0], 1, 40, 101)\n",
    "    \n",
    "    y_train = np.concatenate(y_remaining_folds)\n",
    "    \n",
    "    \n",
    "    key = 's'+str(s+1).zfill(2)+'_arousal(2classes)'\n",
    "    \n",
    "    \n",
    "    # arousal classification model for two classes    \n",
    "    model = nn.CNN(num_classes=num_classes, emotion='arousal')\n",
    "    \n",
    "    \n",
    "    # checkpoint\n",
    "    filepath=\"../saved_models/best_CNN_model_for_{}.h5\".format(key)\n",
    "    \n",
    "    print 'Training model to test on subject {} ...\\n'.format(str(s+1).zfill(2))\n",
    "    \n",
    "    checkpoint = ModelCheckpoint(filepath, monitor='val_categorical_accuracy',\n",
    "                                verbose=1, save_best_only=True, mode='max', period=20)\n",
    "    \n",
    "    callbacks_list = [checkpoint]\n",
    "    \n",
    "    \n",
    "    hist = model.fit(X_train, y_train, \n",
    "             batch_size=batch_size,\n",
    "             epochs=epochs,\n",
    "             shuffle=True,\n",
    "             verbose=0,\n",
    "             validation_data=(X_val, y_val), callbacks=callbacks_list)\n",
    "\n",
    "    \n",
    "    \n",
    "    model.load_weights(filepath)\n",
    "    \n",
    "    scores = model.evaluate(x=X_val, y=y_val)\n",
    "    \n",
    "    \n",
    "    \n",
    "    print '#### Result of CNN model for subject {} #####\\n'.format(str(s+1).zfill(2))\n",
    "    print \"Loss: {} , Accuracy : {}%\".format(scores[0], scores[1]*100)\n",
    "    print 'it takes', start - time.time()\n",
    "    \n",
    "\n",
    "    accuracies.append(scores[1])\n",
    "    # summarize history for accuracy\n",
    "    plt.plot(hist.history['categorical_accuracy'])\n",
    "    plt.plot(hist.history['val_categorical_accuracy'])\n",
    "    plt.title('Subject ' +str(s+1).zfill(2)+ ' DNN model accuracy for arousal')\n",
    "    plt.ylabel('accuracy')\n",
    "    plt.xlabel('epoch')\n",
    "    plt.legend(['train', 'test'], loc='upper left')\n",
    "    plt.show()\n",
    "    \n",
    "    \n",
    "    # summarize history for loss\n",
    "    plt.plot(hist.history['loss'])\n",
    "    plt.plot(hist.history['val_loss'])\n",
    "    plt.title('Subject ' +str(s+1).zfill(2)+ ' CNN model loss for arousal')\n",
    "    plt.ylabel('loss')\n",
    "    plt.xlabel('epoch')\n",
    "    plt.legend(['train', 'test'], loc='upper left')\n",
    "    plt.show()\n",
    "\n",
    "    del model\n",
    " \n",
    "\n",
    "   "
   ]
  },
  {
   "cell_type": "markdown",
   "metadata": {},
   "source": [
    "# Accuracies"
   ]
  },
  {
   "cell_type": "code",
   "execution_count": 8,
   "metadata": {},
   "outputs": [
    {
     "name": "stdout",
     "output_type": "stream",
     "text": [
      "15 19\n",
      "0.76171875\n"
     ]
    },
    {
     "data": {
      "text/plain": [
       "[0.72499999999999998,\n",
       " 0.82499999999999996,\n",
       " 0.72499999999999998,\n",
       " 0.69999999999999996,\n",
       " 0.69999999999999996,\n",
       " 0.72499999999999998,\n",
       " 0.72499999999999998,\n",
       " 0.77500000000000002,\n",
       " 0.77500000000000002,\n",
       " 0.82499999999999996,\n",
       " 0.65000000000000002,\n",
       " 0.84999999999999998,\n",
       " 0.77500000000000002,\n",
       " 0.84999999999999998,\n",
       " 0.84999999999999998,\n",
       " 0.52500000000000002,\n",
       " 0.80000000000000004,\n",
       " 0.82499999999999996,\n",
       " 0.82499999999999996,\n",
       " 0.90000000000000002,\n",
       " 0.75,\n",
       " 0.82499999999999996,\n",
       " 0.75,\n",
       " 0.84999999999999998,\n",
       " 0.75,\n",
       " 0.67500000000000004,\n",
       " 0.59999999999999998,\n",
       " 0.80000000000000004,\n",
       " 0.75,\n",
       " 0.72499999999999998,\n",
       " 0.80000000000000004,\n",
       " 0.75]"
      ]
     },
     "execution_count": 8,
     "metadata": {},
     "output_type": "execute_result"
    }
   ],
   "source": [
    "print np.argmin(accuracies), np.argmax(accuracies)\n",
    "print reduce(lambda x, y: x + y, accuracies) / len(accuracies)\n",
    "accuracies"
   ]
  }
 ],
 "metadata": {
  "kernelspec": {
   "display_name": "Python 2",
   "language": "python",
   "name": "python2"
  },
  "language_info": {
   "codemirror_mode": {
    "name": "ipython",
    "version": 2
   },
   "file_extension": ".py",
   "mimetype": "text/x-python",
   "name": "python",
   "nbconvert_exporter": "python",
   "pygments_lexer": "ipython2",
   "version": "2.7.14"
  }
 },
 "nbformat": 4,
 "nbformat_minor": 2
}
